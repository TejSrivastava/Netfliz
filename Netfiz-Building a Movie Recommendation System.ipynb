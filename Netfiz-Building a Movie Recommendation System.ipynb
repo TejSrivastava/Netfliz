{
 "cells": [
  {
   "cell_type": "code",
   "execution_count": 3,
   "id": "ffb9b485",
   "metadata": {},
   "outputs": [],
   "source": [
    "import pandas as pd\n",
    "import numpy as np"
   ]
  },
  {
   "cell_type": "code",
   "execution_count": 6,
   "id": "8bdf39b2",
   "metadata": {
    "scrolled": true
   },
   "outputs": [],
   "source": [
    "data_movies=pd.read_csv(\"C:\\\\Users\\\\Tejas\\\\movie_data\\\\movies.csv\")"
   ]
  },
  {
   "cell_type": "code",
   "execution_count": 7,
   "id": "647df369",
   "metadata": {},
   "outputs": [
    {
     "name": "stdout",
     "output_type": "stream",
     "text": [
      "      movieId                                      title  \\\n",
      "0           1                           Toy Story (1995)   \n",
      "1           2                             Jumanji (1995)   \n",
      "2           3                    Grumpier Old Men (1995)   \n",
      "3           4                   Waiting to Exhale (1995)   \n",
      "4           5         Father of the Bride Part II (1995)   \n",
      "...       ...                                        ...   \n",
      "9737   193581  Black Butler: Book of the Atlantic (2017)   \n",
      "9738   193583               No Game No Life: Zero (2017)   \n",
      "9739   193585                               Flint (2017)   \n",
      "9740   193587        Bungo Stray Dogs: Dead Apple (2018)   \n",
      "9741   193609        Andrew Dice Clay: Dice Rules (1991)   \n",
      "\n",
      "                                           genres  \n",
      "0     Adventure|Animation|Children|Comedy|Fantasy  \n",
      "1                      Adventure|Children|Fantasy  \n",
      "2                                  Comedy|Romance  \n",
      "3                            Comedy|Drama|Romance  \n",
      "4                                          Comedy  \n",
      "...                                           ...  \n",
      "9737              Action|Animation|Comedy|Fantasy  \n",
      "9738                     Animation|Comedy|Fantasy  \n",
      "9739                                        Drama  \n",
      "9740                             Action|Animation  \n",
      "9741                                       Comedy  \n",
      "\n",
      "[9742 rows x 3 columns]\n"
     ]
    }
   ],
   "source": [
    "print(data_movies)"
   ]
  },
  {
   "cell_type": "code",
   "execution_count": 9,
   "id": "f6c7c6f1",
   "metadata": {},
   "outputs": [
    {
     "data": {
      "text/plain": [
       "(9742, 3)"
      ]
     },
     "execution_count": 9,
     "metadata": {},
     "output_type": "execute_result"
    }
   ],
   "source": [
    "data_movies.shape"
   ]
  },
  {
   "cell_type": "code",
   "execution_count": 10,
   "id": "45678269",
   "metadata": {},
   "outputs": [],
   "source": [
    "data_ratings=pd.read_csv(\"C:\\\\Users\\\\Tejas\\\\movie_data\\\\ratings.csv\")"
   ]
  },
  {
   "cell_type": "code",
   "execution_count": 11,
   "id": "eb9e28d0",
   "metadata": {},
   "outputs": [
    {
     "name": "stdout",
     "output_type": "stream",
     "text": [
      "        userId  movieId  rating   timestamp\n",
      "0            1        1     4.0   964982703\n",
      "1            1        3     4.0   964981247\n",
      "2            1        6     4.0   964982224\n",
      "3            1       47     5.0   964983815\n",
      "4            1       50     5.0   964982931\n",
      "...        ...      ...     ...         ...\n",
      "100831     610   166534     4.0  1493848402\n",
      "100832     610   168248     5.0  1493850091\n",
      "100833     610   168250     5.0  1494273047\n",
      "100834     610   168252     5.0  1493846352\n",
      "100835     610   170875     3.0  1493846415\n",
      "\n",
      "[100836 rows x 4 columns]\n"
     ]
    }
   ],
   "source": [
    "print(data_ratings)"
   ]
  },
  {
   "cell_type": "code",
   "execution_count": 12,
   "id": "483bf85f",
   "metadata": {},
   "outputs": [
    {
     "data": {
      "text/plain": [
       "(100836, 4)"
      ]
     },
     "execution_count": 12,
     "metadata": {},
     "output_type": "execute_result"
    }
   ],
   "source": [
    "data_ratings.shape"
   ]
  },
  {
   "cell_type": "code",
   "execution_count": 14,
   "id": "16f57971",
   "metadata": {},
   "outputs": [],
   "source": [
    "unique_user_count = data_ratings['userId'].nunique()"
   ]
  },
  {
   "cell_type": "code",
   "execution_count": 15,
   "id": "01ff5087",
   "metadata": {},
   "outputs": [
    {
     "name": "stdout",
     "output_type": "stream",
     "text": [
      "610\n"
     ]
    }
   ],
   "source": [
    "print(unique_user_count)"
   ]
  },
  {
   "cell_type": "code",
   "execution_count": 16,
   "id": "f45dabc3",
   "metadata": {},
   "outputs": [],
   "source": [
    "ratings_count = data_ratings.groupby('movieId')['userId'].count()"
   ]
  },
  {
   "cell_type": "code",
   "execution_count": 17,
   "id": "f1c13de9",
   "metadata": {},
   "outputs": [],
   "source": [
    "max_ratings_movie_id = ratings_count.idxmax()"
   ]
  },
  {
   "cell_type": "code",
   "execution_count": 19,
   "id": "44923dba",
   "metadata": {},
   "outputs": [
    {
     "name": "stdout",
     "output_type": "stream",
     "text": [
      "356\n"
     ]
    }
   ],
   "source": [
    "print(max_ratings_movie_id)"
   ]
  },
  {
   "cell_type": "code",
   "execution_count": 24,
   "id": "639fc711",
   "metadata": {},
   "outputs": [
    {
     "name": "stdout",
     "output_type": "stream",
     "text": [
      "Forrest Gump (1994)\n"
     ]
    }
   ],
   "source": [
    "max_ratings_movie_title = data_movies[data_movies['movieId'] == max_ratings_movie_id]['title'].values[0]\n",
    "print(max_ratings_movie_title)"
   ]
  },
  {
   "cell_type": "code",
   "execution_count": 26,
   "id": "749e3195",
   "metadata": {},
   "outputs": [
    {
     "name": "stdout",
     "output_type": "stream",
     "text": [
      "      userId  movieId               tag   timestamp\n",
      "0          2    60756             funny  1445714994\n",
      "1          2    60756   Highly quotable  1445714996\n",
      "2          2    60756      will ferrell  1445714992\n",
      "3          2    89774      Boxing story  1445715207\n",
      "4          2    89774               MMA  1445715200\n",
      "...      ...      ...               ...         ...\n",
      "3678     606     7382         for katie  1171234019\n",
      "3679     606     7936           austere  1173392334\n",
      "3680     610     3265            gun fu  1493843984\n",
      "3681     610     3265  heroic bloodshed  1493843978\n",
      "3682     610   168248  Heroic Bloodshed  1493844270\n",
      "\n",
      "[3683 rows x 4 columns]\n"
     ]
    }
   ],
   "source": [
    "data_tags=pd.read_csv(\"C:\\\\Users\\\\Tejas\\\\movie_data\\\\tags.csv\")\n",
    "print(data_tags)"
   ]
  },
  {
   "cell_type": "code",
   "execution_count": 27,
   "id": "042b74c2",
   "metadata": {},
   "outputs": [],
   "source": [
    "matrix_movie_id = data_movies[data_movies['title'] == 'Matrix, The (1999)']['movieId'].values[0]"
   ]
  },
  {
   "cell_type": "code",
   "execution_count": 29,
   "id": "77cc4113",
   "metadata": {},
   "outputs": [
    {
     "name": "stdout",
     "output_type": "stream",
     "text": [
      "['martial arts' 'sci-fi' 'alternate universe' 'philosophy'\n",
      " 'post apocalyptic']\n"
     ]
    }
   ],
   "source": [
    "matrix_tags = data_tags[data_tags['movieId'] == matrix_movie_id]['tag'].values\n",
    "print(matrix_tags)"
   ]
  },
  {
   "cell_type": "code",
   "execution_count": 30,
   "id": "354cedea",
   "metadata": {},
   "outputs": [],
   "source": [
    "terminator_2_id=data_movies[data_movies['title']=='Terminator 2: Judgment Day (1991)']['movieId'].values[0]"
   ]
  },
  {
   "cell_type": "code",
   "execution_count": 31,
   "id": "1f5401a8",
   "metadata": {},
   "outputs": [],
   "source": [
    "terminator_ratings = data_ratings[data_ratings['movieId'] == terminator_2_id]['rating']"
   ]
  },
  {
   "cell_type": "code",
   "execution_count": 33,
   "id": "57827cfb",
   "metadata": {},
   "outputs": [
    {
     "name": "stdout",
     "output_type": "stream",
     "text": [
      "3.970982142857143\n"
     ]
    }
   ],
   "source": [
    "average_rating = terminator_ratings.mean()\n",
    "print(average_rating)"
   ]
  },
  {
   "cell_type": "code",
   "execution_count": 34,
   "id": "27980109",
   "metadata": {},
   "outputs": [],
   "source": [
    "import matplotlib.pyplot as plt"
   ]
  },
  {
   "cell_type": "code",
   "execution_count": 36,
   "id": "dafa187b",
   "metadata": {},
   "outputs": [],
   "source": [
    "fight_club_id=data_movies[data_movies['title']=='Fight Club (1999)']['movieId'].values[0]"
   ]
  },
  {
   "cell_type": "code",
   "execution_count": 37,
   "id": "d3622962",
   "metadata": {},
   "outputs": [],
   "source": [
    "fight_club_ratings = data_ratings[data_ratings['movieId'] == fight_club_id]['rating']"
   ]
  },
  {
   "cell_type": "code",
   "execution_count": 38,
   "id": "02280210",
   "metadata": {},
   "outputs": [
    {
     "data": {
      "image/png": "[encoded data removed]",
      "text/plain": [
       "<Figure size 640x480 with 1 Axes>"
      ]
     },
     "metadata": {},
     "output_type": "display_data"
    }
   ],
   "source": [
    "plt.hist(fight_club_ratings, bins=5, edgecolor='black')\n",
    "plt.title('User Ratings Distribution for \"Fight Club (1999)\"')\n",
    "plt.xlabel('Rating')\n",
    "plt.ylabel('Number of Users')\n",
    "plt.show()"
   ]
  },
  {
   "cell_type": "markdown",
   "id": "1f86d157",
   "metadata": {},
   "source": [
    "### Mandatory Operations"
   ]
  },
  {
   "cell_type": "code",
   "execution_count": 40,
   "id": "310660b4",
   "metadata": {},
   "outputs": [],
   "source": [
    "# Step 1: Group user ratings based on movieId and apply aggregation operations\n",
    "grouped_ratings = data_ratings.groupby('movieId').agg({'rating': ['count', 'mean']}).reset_index()\n"
   ]
  },
  {
   "cell_type": "code",
   "execution_count": 41,
   "id": "bebbcc28",
   "metadata": {},
   "outputs": [],
   "source": [
    "# Renaming the columns for better clarity\n",
    "grouped_ratings.columns = ['movieId', 'rating_count', 'rating_mean']"
   ]
  },
  {
   "cell_type": "code",
   "execution_count": 45,
   "id": "e09758c7",
   "metadata": {},
   "outputs": [],
   "source": [
    "# Step 2: Inner join on dataframe created from movies.csv and the grouped df from step 1\n",
    "merged_data = pd.merge(data_movies, grouped_ratings, on='movieId', how='inner')"
   ]
  },
  {
   "cell_type": "code",
   "execution_count": 46,
   "id": "04679d2d",
   "metadata": {},
   "outputs": [],
   "source": [
    "# Step 3: Filter only those movies with more than 50 user ratings\n",
    "filtered_data = merged_data[merged_data['rating_count'] > 50]"
   ]
  },
  {
   "cell_type": "code",
   "execution_count": 47,
   "id": "86d11144",
   "metadata": {},
   "outputs": [
    {
     "name": "stdout",
     "output_type": "stream",
     "text": [
      "      movieId                             title  \\\n",
      "0           1                  Toy Story (1995)   \n",
      "1           2                    Jumanji (1995)   \n",
      "2           3           Grumpier Old Men (1995)   \n",
      "5           6                       Heat (1995)   \n",
      "6           7                    Sabrina (1995)   \n",
      "...       ...                               ...   \n",
      "8287   106782   Wolf of Wall Street, The (2013)   \n",
      "8354   109374  Grand Budapest Hotel, The (2014)   \n",
      "8358   109487               Interstellar (2014)   \n",
      "8457   112852    Guardians of the Galaxy (2014)   \n",
      "8673   122904                   Deadpool (2016)   \n",
      "\n",
      "                                           genres  rating_count  rating_mean  \n",
      "0     Adventure|Animation|Children|Comedy|Fantasy           215     3.920930  \n",
      "1                      Adventure|Children|Fantasy           110     3.431818  \n",
      "2                                  Comedy|Romance            52     3.259615  \n",
      "5                           Action|Crime|Thriller           102     3.946078  \n",
      "6                                  Comedy|Romance            54     3.185185  \n",
      "...                                           ...           ...          ...  \n",
      "8287                           Comedy|Crime|Drama            54     3.916667  \n",
      "8354                                 Comedy|Drama            52     3.778846  \n",
      "8358                                  Sci-Fi|IMAX            73     3.993151  \n",
      "8457                      Action|Adventure|Sci-Fi            59     4.050847  \n",
      "8673               Action|Adventure|Comedy|Sci-Fi            54     3.833333  \n",
      "\n",
      "[436 rows x 5 columns]\n"
     ]
    }
   ],
   "source": [
    "print(filtered_data)"
   ]
  },
  {
   "cell_type": "code",
   "execution_count": 49,
   "id": "5e98368c",
   "metadata": {},
   "outputs": [
    {
     "name": "stdout",
     "output_type": "stream",
     "text": [
      "movieId                                      318\n",
      "title           Shawshank Redemption, The (1994)\n",
      "genres                               Crime|Drama\n",
      "rating_count                                 317\n",
      "rating_mean                             4.429022\n",
      "Name: 277, dtype: object\n"
     ]
    }
   ],
   "source": [
    "most_popular_movie = filtered_data.loc[filtered_data['rating_mean'].idxmax()]\n",
    "print(most_popular_movie)"
   ]
  },
  {
   "cell_type": "code",
   "execution_count": 52,
   "id": "57e116e5",
   "metadata": {},
   "outputs": [
    {
     "name": "stdout",
     "output_type": "stream",
     "text": [
      "      movieId                             title                       genres  \\\n",
      "314       356               Forrest Gump (1994)     Comedy|Drama|Romance|War   \n",
      "277       318  Shawshank Redemption, The (1994)                  Crime|Drama   \n",
      "257       296               Pulp Fiction (1994)  Comedy|Crime|Drama|Thriller   \n",
      "510       593  Silence of the Lambs, The (1991)        Crime|Horror|Thriller   \n",
      "1938     2571                Matrix, The (1999)       Action|Sci-Fi|Thriller   \n",
      "\n",
      "      rating_count  rating_mean  \n",
      "314            329     4.164134  \n",
      "277            317     4.429022  \n",
      "257            307     4.197068  \n",
      "510            279     4.161290  \n",
      "1938           278     4.192446  \n"
     ]
    }
   ],
   "source": [
    "top_movies_by_ratings = filtered_data.sort_values(by='rating_count', ascending=False).head(5)\n",
    "print(top_movies_by_ratings)"
   ]
  },
  {
   "cell_type": "code",
   "execution_count": 53,
   "id": "fbc9db23",
   "metadata": {},
   "outputs": [],
   "source": [
    "# Filter Sci-Fi movies\n",
    "sci_fi_movies = filtered_data[filtered_data['genres'].str.contains('Sci-Fi')]"
   ]
  },
  {
   "cell_type": "code",
   "execution_count": 54,
   "id": "46721639",
   "metadata": {},
   "outputs": [],
   "source": [
    "# Sort Sci-Fi movies by rating_count in descending order\n",
    "sorted_sci_fi_movies = sci_fi_movies.sort_values(by='rating_count', ascending=False)"
   ]
  },
  {
   "cell_type": "code",
   "execution_count": 56,
   "id": "7fc27fea",
   "metadata": {},
   "outputs": [
    {
     "name": "stdout",
     "output_type": "stream",
     "text": [
      "movieId                                      480\n",
      "title                       Jurassic Park (1993)\n",
      "genres          Action|Adventure|Sci-Fi|Thriller\n",
      "rating_count                                 238\n",
      "rating_mean                                 3.75\n",
      "Name: 418, dtype: object\n"
     ]
    }
   ],
   "source": [
    "third_most_popular_sci_fi_movie = sorted_sci_fi_movies.iloc[2]\n",
    "print(third_most_popular_sci_fi_movie)"
   ]
  },
  {
   "cell_type": "code",
   "execution_count": null,
   "id": "452f789b",
   "metadata": {},
   "outputs": [
    {
     "name": "stdout",
     "output_type": "stream",
     "text": [
      "Error: Unable to fetch data for movie with IMDb ID 118114. Status code: 404\n"
     ]
    }
   ],
   "source": [
    "import pandas as pd\n",
    "import requests\n",
    "from bs4 import BeautifulSoup\n",
    "\n",
    "def scrapper(imdbId):\n",
    "    id = str(int(imdbId))\n",
    "    n_zeroes = 7 - len(id)\n",
    "    new_id = \"0\" * n_zeroes + id\n",
    "    URL = f\"https://www.imdb.com/title/tt{new_id}/\"\n",
    "    \n",
    "    request_header = {\n",
    "        'User-Agent': 'Mozilla/5.0 (Windows NT 10.0; Win64; x64; rv:109.0) Gecko/20100101 Firefox/119.0'\n",
    "    }\n",
    "    \n",
    "    response = requests.get(URL, headers=request_header)\n",
    "    \n",
    "    if response.status_code == 200:\n",
    "        soup = BeautifulSoup(response.text, 'html.parser')\n",
    "        imdb_rating = soup.find('span', {'itemprop': 'ratingValue'})\n",
    "        \n",
    "        return float(imdb_rating.text) if imdb_rating else np.nan\n",
    "    else:\n",
    "        print(f\"Error: Unable to fetch data for movie with IMDb ID {imdbId}. Status code: {response.status_code}\")\n",
    "        return np.nan\n",
    "\n",
    "# Load your DataFrame with the subset of movies (assuming you have it)\n",
    "data_links = pd.read_csv(\"C:\\\\Users\\\\Tejas\\\\movie_data\\\\links.csv\")\n",
    "\n",
    "# Add a new column 'imdb_rating' to your DataFrame\n",
    "data_links['imdb_rating'] = data_links['imdbId'].apply(scrapper)\n",
    "\n",
    "# Find the movieId with the highest IMDb rating\n",
    "highest_rated_movie_id = df_links.loc[df_links['imdb_rating'].idxmax(), 'movieId']\n",
    "\n",
    "print(f\"The movieId of the movie with the highest IMDb rating is: {highest_rated_movie_id}\")\n"
   ]
  },
  {
   "cell_type": "code",
   "execution_count": null,
   "id": "fd9fec14",
   "metadata": {},
   "outputs": [],
   "source": []
  }
 ],
 "metadata": {
  "kernelspec": {
   "display_name": "Python 3 (ipykernel)",
   "language": "python",
   "name": "python3"
  },
  "language_info": {
   "codemirror_mode": {
    "name": "ipython",
    "version": 3
   },
   "file_extension": ".py",
   "mimetype": "text/x-python",
   "name": "python",
   "nbconvert_exporter": "python",
   "pygments_lexer": "ipython3",
   "version": "3.9.13"
  }
 },
 "nbformat": 4,
 "nbformat_minor": 5
}
